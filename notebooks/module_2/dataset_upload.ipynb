{
 "cells": [
  {
   "cell_type": "markdown",
   "metadata": {},
   "source": [
    "# Dataset Upload"
   ]
  },
  {
   "cell_type": "code",
   "execution_count": 14,
   "metadata": {},
   "outputs": [
    {
     "data": {
      "text/plain": [
       "True"
      ]
     },
     "execution_count": 14,
     "metadata": {},
     "output_type": "execute_result"
    }
   ],
   "source": [
    "from dotenv import load_dotenv\n",
    "load_dotenv(dotenv_path=\"../../.env\", override=True)"
   ]
  },
  {
   "cell_type": "code",
   "execution_count": 15,
   "metadata": {},
   "outputs": [
    {
     "data": {
      "text/plain": [
       "{'example_ids': ['26f24e4b-f4ca-45df-98cd-8e0237cd0e74',\n",
       "  '91aeca08-498a-414c-b573-5dc638dd7239',\n",
       "  '3d545009-2802-417a-89d1-642f0ac2710b',\n",
       "  '8ea264c3-ddb6-400d-bee3-73975341b79f',\n",
       "  '572cb38e-9e1f-41fd-9ae3-8e37d544c654',\n",
       "  '89ff9576-5677-49d4-801f-0463c8234dd7',\n",
       "  '9f297128-c4b4-4de7-bbc8-ecdc0a75e7c5',\n",
       "  'd97bf230-66f0-4847-ad19-2c50373b1fd8',\n",
       "  '99c2b772-9140-462c-8fff-4849287180b7',\n",
       "  '43d33fdf-6268-4378-8ded-32d14d2f21d6'],\n",
       " 'count': 10}"
      ]
     },
     "execution_count": 15,
     "metadata": {},
     "output_type": "execute_result"
    }
   ],
   "source": [
    "from langsmith import Client\n",
    "\n",
    "example_inputs = [\n",
    "(\"How do I set up tracing to LangSmith if I'm using LangChain?\", \"To set up tracing to LangSmith while using LangChain, you need to set the environment variable `LANGSMITH_TRACING` to 'true'. Additionally, you must set the `LANGSMITH_API_KEY` environment variable to your API key. By default, traces will be logged to a project named \\\"default.\\\"\"),\n",
    "(\"How can I trace with the @traceable decorator?\", \"To trace with the @traceable decorator in Python, simply decorate any function you want to log traces for by adding `@traceable` above the function definition. Ensure that the LANGSMITH_TRACING environment variable is set to 'true' to enable tracing, and also set the LANGSMITH_API_KEY environment variable with your API key. By default, traces will be logged to a project named \\\"default,\\\" but you can configure it to log to a different project if needed.\"),\n",
    "(\"How do I pass metadata in with @traceable?\", \"You can pass metadata with the @traceable decorator by specifying arbitrary key-value pairs as arguments. This allows you to associate additional information, such as the execution environment or user details, with your traces. For more detailed instructions, refer to the LangSmith documentation on adding metadata and tags.\"),\n",
    "(\"What is LangSmith used for in three sentences?\", \"LangSmith is a platform designed for the development, monitoring, and testing of LLM applications. It enables users to collect and analyze unstructured data, debug issues, and create datasets for testing and evaluation. The tool supports various workflows throughout the application development lifecycle, enhancing the overall performance and reliability of LLM applications.\"),\n",
    "(\"What testing capabilities does LangSmith have?\", \"LangSmith offers capabilities for creating datasets of inputs and reference outputs to run tests on LLM applications, supporting a test-driven approach. It allows for bulk uploads of test cases, on-the-fly creation, and exporting from application traces. Additionally, LangSmith facilitates custom evaluations to score test results, enhancing the testing process.\"),\n",
    "(\"Does LangSmith support online evaluation?\", \"Yes, LangSmith supports online evaluation as a feature. It allows you to configure a sample of runs from production to be evaluated, providing feedback on those runs. You can use either custom code or an LLM as a judge for the evaluations.\"),\n",
    "(\"Does LangSmith support offline evaluation?\", \"Yes, LangSmith supports offline evaluation through its evaluation how-to guides and features for managing datasets. Users can manage datasets for offline evaluations and run various types of evaluations, including unit testing and auto-evaluation. This allows for comprehensive testing and improvement of LLM applications.\"),\n",
    "(\"Can LangSmith be used for finetuning and model training?\", \"Yes, LangSmith can be used for fine-tuning and model training. It allows you to capture run traces from your deployment, query and filter this data, and convert it into a format suitable for fine-tuning models. Additionally, you can create training datasets to keep track of the data used for model training.\"),\n",
    "(\"Can LangSmith be used to evaluate agents?\", \"Yes, LangSmith can be used to evaluate agents. It provides various evaluation strategies, including assessing the agent's final response, evaluating individual steps, and analyzing the trajectory of tool calls. These methods help ensure the effectiveness of LLM applications.\"),\n",
    "(\"How do I create user feedback with the LangSmith sdk?\", \"To create user feedback with the LangSmith SDK, you first need to run your application and obtain the `run_id`. Then, you can use the `create_feedback` method, providing the `run_id`, a feedback key, a score, and an optional comment. For example, in Python, it would look like this: `client.create_feedback(run_id, key=\\\"feedback-key\\\", score=1.0, comment=\\\"comment\\\")`.\"),\n",
    "]\n",
    "\n",
    "client = Client()\n",
    "# TODO: Fill in dataset id\n",
    "dataset_id = \"b1df7402-675b-4aae-8f41-f9b084fc644e\"\n",
    "\n",
    "# Prepare inputs and outputs for bulk creation\n",
    "inputs = [{\"question\": input_prompt} for input_prompt, _ in example_inputs]\n",
    "outputs = [{\"output\": output_answer} for _, output_answer in example_inputs]\n",
    "\n",
    "client.create_examples(\n",
    "  inputs=inputs,\n",
    "  outputs=outputs,\n",
    "  dataset_id=dataset_id,\n",
    ")"
   ]
  },
  {
   "cell_type": "markdown",
   "metadata": {},
   "source": [
    "## Submitting another Trace"
   ]
  },
  {
   "cell_type": "markdown",
   "metadata": {},
   "source": [
    "I've moved our RAG application definition to `app.py` so we can quickly import it."
   ]
  },
  {
   "cell_type": "code",
   "execution_count": 16,
   "metadata": {},
   "outputs": [],
   "source": [
    "from app import langsmith_rag"
   ]
  },
  {
   "cell_type": "markdown",
   "metadata": {},
   "source": [
    "Let's ask another question to create a new trace!"
   ]
  },
  {
   "cell_type": "code",
   "execution_count": null,
   "metadata": {},
   "outputs": [],
   "source": [
    "question = \"How do I set up tracing to LangSmith if I'm using LangChain?\"\n",
    "langsmith_rag(question)"
   ]
  },
  {
   "cell_type": "code",
   "execution_count": 18,
   "metadata": {},
   "outputs": [
    {
     "data": {
      "text/plain": [
       "{'example_ids': ['b2eff024-08fe-4b33-ba90-f00509361ddf',\n",
       "  '0acb7e58-1da0-41ce-a734-a40a3deb66e8',\n",
       "  '3e5e7d9e-553e-4eaf-82f7-00c339208566',\n",
       "  'c1b93194-6daf-492a-9b57-499c2ff1577f',\n",
       "  '5dd7b5ae-5b3a-4685-b0a3-5866d3c50142',\n",
       "  'a9593655-6eb9-4a94-bb2a-2b852d8e3359',\n",
       "  '508c1bb6-a5a4-4988-9a8d-dfa70f973335',\n",
       "  'd500d751-0dbc-4431-aa26-637bc6e9a971',\n",
       "  '52fbb31b-8872-4835-8290-861d505061a5',\n",
       "  'cffe6da5-e21e-4ab5-bd43-1f5b2be19ad2'],\n",
       " 'count': 10}"
      ]
     },
     "execution_count": 18,
     "metadata": {},
     "output_type": "execute_result"
    }
   ],
   "source": [
    "from langsmith import Client\n",
    "from app import langsmith_rag # Make sure this import points to your RAG function\n",
    "\n",
    "\n",
    "example_inputs = [\n",
    "    (\"Who were the two Jedi Knights dispatched to negotiate with the Trade Federation in The Phantom Menace?\", \"The two Jedi were Qui-Gon Jinn and his apprentice, Obi-Wan Kenobi.\"),\n",
    "    (\"What is the significance of Order 66?\", \"Order 66 was a secret contingency order that identified all Jedi as traitors to the Republic, leading to their near-extermination by the clone troopers.\"),\n",
    "    (\"Which planet was the capital of the Galactic Republic and later the Empire?\", \"The planet Coruscant served as the capital for both the Galactic Republic and the Galactic Empire.\"),\n",
    "    (\"What type of starship did Han Solo famously pilot, and what was its name?\", \"Han Solo piloted a modified Corellian YT-1300 light freighter named the Millennium Falcon.\"),\n",
    "    (\"Who was Anakin Skywalker's Padawan learner during the Clone Wars?\", \"Anakin Skywalker's Padawan learner was Ahsoka Tano.\"),\n",
    "    (\"What is the kyber crystal, and what is its primary function in a lightsaber?\", \"A kyber crystal is a Force-attuned crystal that powers a lightsaber and gives its blade its color.\"),\n",
    "    (\"Which species is Chewbacca, and what is his home planet?\", \"Chewbacca is a Wookiee from the planet Kashyyyk.\"),\n",
    "    (\"In The Empire Strikes Back, what training did Luke Skywalker undergo with Yoda on Dagobah?\", \"On Dagobah, Yoda trained Luke Skywalker to deepen his connection to the Force, control his emotions, and master advanced Jedi techniques.\"),\n",
    "    (\"What is the 'Rule of Two' that governs the Sith?\", \"The 'Rule of Two' is a Sith philosophy stating that there can only be two Sith Lords at any one time: a master to embody power and an apprentice to crave it.\"),\n",
    "    (\"Who delivered the final blow to Emperor Palpatine in The Rise of Skywalker?\", \"Rey, channeling the power of all the Jedi, delivered the final blow to Emperor Palpatine.\"),\n",
    "]\n",
    "\n",
    "client = Client()\n",
    "# TODO: Fill in dataset id\n",
    "dataset_id = \"58f777f8-a968-45e6-b468-412b433622cf\"\n",
    "\n",
    "# Prepare inputs and outputs for bulk creation\n",
    "inputs = [{\"question\": input_prompt} for input_prompt, _ in example_inputs]\n",
    "outputs = [{\"output\": output_answer} for _, output_answer in example_inputs]\n",
    "\n",
    "client.create_examples(\n",
    "  inputs=inputs,\n",
    "  outputs=outputs,\n",
    "  dataset_id=dataset_id,\n",
    ")"
   ]
  },
  {
   "cell_type": "code",
   "execution_count": 19,
   "metadata": {},
   "outputs": [],
   "source": [
    "from app import langsmith_rag"
   ]
  },
  {
   "cell_type": "code",
   "execution_count": null,
   "metadata": {},
   "outputs": [],
   "source": [
    "question = \"Who were the two Jedi Knights dispatched to negotiate with the Trade Federation in The Phantom Menace?\", \"The two Jedi were Qui-Gon Jinn and his apprentice, Obi-Wan Kenobi.\"\n",
    "langsmith_rag(question)"
   ]
  }
 ],
 "metadata": {
  "kernelspec": {
   "display_name": "venv",
   "language": "python",
   "name": "python3"
  },
  "language_info": {
   "codemirror_mode": {
    "name": "ipython",
    "version": 3
   },
   "file_extension": ".py",
   "mimetype": "text/x-python",
   "name": "python",
   "nbconvert_exporter": "python",
   "pygments_lexer": "ipython3",
   "version": "3.13.5"
  }
 },
 "nbformat": 4,
 "nbformat_minor": 4
}
