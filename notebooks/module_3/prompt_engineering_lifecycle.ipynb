{
 "cells": [
  {
   "cell_type": "code",
   "execution_count": 1,
   "metadata": {},
   "outputs": [
    {
     "data": {
      "text/plain": [
       "True"
      ]
     },
     "execution_count": 1,
     "metadata": {},
     "output_type": "execute_result"
    }
   ],
   "source": [
    "from dotenv import load_dotenv\n",
    "load_dotenv(dotenv_path=\"../../.env\", override=True)"
   ]
  },
  {
   "cell_type": "code",
   "execution_count": 4,
   "metadata": {},
   "outputs": [
    {
     "data": {
      "text/plain": [
       "'The retrieved context does not provide specific examples of constellations. However, common examples of constellations include Orion, Ursa Major, and Cassiopeia. If you need detailed information, I can look it up for you.'"
      ]
     },
     "execution_count": 4,
     "metadata": {},
     "output_type": "execute_result"
    }
   ],
   "source": [
    "from app import langsmith_rag\n",
    "\n",
    "question = \"What are some examples of constellations?\"\n",
    "langsmith_rag(question)"
   ]
  },
  {
   "cell_type": "code",
   "execution_count": 5,
   "metadata": {},
   "outputs": [
    {
     "data": {
      "text/plain": [
       "{'example_ids': ['1601a93d-6acd-478d-bc43-d5124387ec13',\n",
       "  'b7066e57-a41a-4b57-942c-1571ead54068',\n",
       "  '0c6ecc67-7628-4e1c-91ed-7f4f658647dd'],\n",
       " 'count': 3}"
      ]
     },
     "execution_count": 5,
     "metadata": {},
     "output_type": "execute_result"
    }
   ],
   "source": [
    "from langsmith import Client\n",
    "\n",
    "astronomy_dataset = [\n",
    "    (\n",
    "        \"What causes the phases of the Moon?\",\n",
    "        \"The Moon’s phases result from its orbit around Earth, which changes the portion of its sunlit side visible to us. The Moon itself doesn’t change shape — we see different illuminated fractions depending on its position relative to Earth and the Sun.\",\n",
    "        \"Lunar phases occur as the Moon orbits Earth, showing varying sunlit portions to us.\"\n",
    "    ),\n",
    "    (\n",
    "        \"What is a light-year and what does it measure?\",\n",
    "        \"A light-year measures distance, not time: it’s the distance light travels in one year — about 9.46 trillion kilometers (5.88 trillion miles). Astronomers use it to express vast interstellar distances.\",\n",
    "        \"A light-year is the distance light travels in a year (≈9.46 trillion km).\"\n",
    "    ),\n",
    "    (\n",
    "        \"Why do stars twinkle when viewed from Earth?\",\n",
    "        \"Starlight is distorted as it passes through turbulent layers of Earth’s atmosphere, causing rapid changes in brightness and position — the apparent twinkling effect. Planets twinkle less because they appear as disks, not point sources.\",\n",
    "        \"Stars twinkle due to atmospheric turbulence bending their light as it reaches us.\"\n",
    "    ),\n",
    "]\n",
    "\n",
    "client = Client()\n",
    "dataset_name = \"Astronomy Basics\"\n",
    "\n",
    "dataset = client.create_dataset(\n",
    "    dataset_name=dataset_name,\n",
    "    description=\"Basic concepts and phenomena in astronomy\"\n",
    ")\n",
    "\n",
    "inputs = [{\"question\": q, \"context\": c} for q, c, _ in astronomy_dataset]\n",
    "outputs = [{\"output\": o} for _, _, o in astronomy_dataset]\n",
    "\n",
    "client.create_examples(\n",
    "    inputs=inputs,\n",
    "    outputs=outputs,\n",
    "    dataset_id=dataset.id,\n",
    ")"
   ]
  },
  {
   "cell_type": "code",
   "execution_count": 6,
   "metadata": {},
   "outputs": [
    {
     "name": "stderr",
     "output_type": "stream",
     "text": [
      "C:\\Users\\jaind\\AppData\\Local\\Programs\\Python\\Python313\\Lib\\json\\decoder.py:345: UserWarning: WARNING! extra_headers is not default parameter.\n",
      "                extra_headers was transferred to model_kwargs.\n",
      "                Please confirm that extra_headers is what you intended.\n",
      "  obj, end = self.raw_decode(s, idx=_w(s, 0).end())\n"
     ]
    }
   ],
   "source": [
    "from langsmith import Client\n",
    "client = Client()\n",
    "prompt = client.pull_prompt(\"astronomy-basics\", include_model=True)"
   ]
  },
  {
   "cell_type": "code",
   "execution_count": 7,
   "metadata": {},
   "outputs": [],
   "source": [
    "import os\n",
    "import tempfile\n",
    "from langchain.text_splitter import RecursiveCharacterTextSplitter\n",
    "from langchain_community.document_loaders.sitemap import SitemapLoader\n",
    "from langchain_community.vectorstores import SKLearnVectorStore\n",
    "from langchain_openai import OpenAIEmbeddings\n",
    "from langsmith import traceable\n",
    "from langsmith.client import convert_prompt_to_openai_format as convert\n",
    "from openai import OpenAI\n",
    "from typing import List\n",
    "import nest_asyncio\n",
    "\n",
    "MODEL_NAME = \"gpt-4.1-mini\"\n",
    "MODEL_PROVIDER = \"openai\"\n",
    "APP_VERSION = 1.0\n",
    "\n",
    "\n",
    "\n",
    "openai_client = OpenAI()\n",
    "\n",
    "def get_vector_db_retriever():\n",
    "    persist_path = os.path.join(tempfile.gettempdir(), \"union.parquet\")\n",
    "    embd = OpenAIEmbeddings()\n",
    "\n",
    "    if os.path.exists(persist_path):\n",
    "        vectorstore = SKLearnVectorStore(\n",
    "            embedding=embd,\n",
    "            persist_path=persist_path,\n",
    "            serializer=\"parquet\"\n",
    "        )\n",
    "        return vectorstore.as_retriever(lambda_mult=0)\n",
    "\n",
    "    ls_docs_sitemap_loader = SitemapLoader(web_path=\"https://docs.smith.langchain.com/sitemap.xml\", continue_on_failure=True)\n",
    "    ls_docs = ls_docs_sitemap_loader.load()\n",
    "\n",
    "    text_splitter = RecursiveCharacterTextSplitter.from_tiktoken_encoder(\n",
    "        chunk_size=500, chunk_overlap=0\n",
    "    )\n",
    "    doc_splits = text_splitter.split_documents(ls_docs)\n",
    "\n",
    "    vectorstore = SKLearnVectorStore.from_documents(\n",
    "        documents=doc_splits,\n",
    "        embedding=embd,\n",
    "        persist_path=persist_path,\n",
    "        serializer=\"parquet\"\n",
    "    )\n",
    "    vectorstore.persist()\n",
    "    return vectorstore.as_retriever(lambda_mult=0)\n",
    "\n",
    "nest_asyncio.apply()\n",
    "retriever = get_vector_db_retriever()\n",
    "\n",
    "\"\"\"\n",
    "retrieve_documents\n",
    "- Returns documents fetched from a vectorstore based on the user's question\n",
    "\"\"\"\n",
    "@traceable(run_type=\"chain\")\n",
    "def retrieve_documents(question: str):\n",
    "    return retriever.invoke(question)\n",
    "\n",
    "\"\"\"\n",
    "generate_response\n",
    "- Calls `call_openai` to generate a model response after formatting inputs\n",
    "\"\"\"\n",
    "@traceable(run_type=\"chain\")\n",
    "def generate_response(question: str, documents):\n",
    "    formatted_docs = \"\\n\\n\".join(doc.page_content for doc in documents)\n",
    "    response = prompt.invoke({\n",
    "        \"question\": question,\n",
    "        \"context\": formatted_docs\n",
    "    })\n",
    "    \n",
    "    return response\n",
    "\n",
    "\"\"\"\n",
    "call_openai\n",
    "- Returns the chat completion output from OpenAI\n",
    "\"\"\"\n",
    "@traceable(\n",
    "    run_type=\"llm\",\n",
    "    metadata={\n",
    "        \"ls_provider\": MODEL_PROVIDER,\n",
    "        \"ls_model_name\": MODEL_NAME\n",
    "    }\n",
    ")\n",
    "def call_openai(messages: List[dict]) -> str:\n",
    "    return openai_client.chat.completions.create(\n",
    "        model=MODEL_NAME,\n",
    "        messages=messages,\n",
    "    )\n",
    "\n",
    "\"\"\"\n",
    "langsmith_rag\n",
    "- Calls `retrieve_documents` to fetch documents\n",
    "- Calls `generate_response` to generate a response based on the fetched documents\n",
    "- Returns the model response\n",
    "\"\"\"\n",
    "@traceable(run_type=\"chain\")\n",
    "def langsmith_rag(question: str):\n",
    "    documents = retrieve_documents(question)\n",
    "    response = generate_response(question, documents)\n",
    "    \n",
    "    if hasattr(response, \"content\"):\n",
    "        return response.content\n",
    "    if isinstance(response, dict):\n",
    "        if \"choices\" in response and response[\"choices\"]:\n",
    "            choice = response[\"choices\"][0]\n",
    "            msg = choice.get(\"message\") or {}\n",
    "            \n",
    "            if isinstance(msg, dict) and \"content\" in msg:\n",
    "                return msg[\"content\"]\n",
    "            if \"content\" in response:\n",
    "                return response[\"content\"]\n",
    "        if \"content\" in response:\n",
    "            return response[\"content\"]\n",
    "    \n",
    "    return str(response)\n"
   ]
  },
  {
   "cell_type": "code",
   "execution_count": 8,
   "metadata": {},
   "outputs": [
    {
     "name": "stdout",
     "output_type": "stream",
     "text": [
      "Question: What causes the phases of the Moon?\n",
      "Response: The phases of the Moon are caused by the changing relative positions of the Earth, Moon, and Sun. As the Moon orbits Earth, different portions of its surface are illuminated by the Sun, creating the visible phases ranging from new moon to full moon. This cycle repeats approximately every 29.5 days.\n",
      "\n",
      "Question: What is a light-year and what does it measure?\n",
      "Response: A light-year is the distance that light travels in one year through a vacuum. It measures length or distance, commonly used in astronomy to express the vast distances between celestial objects. One light-year is approximately 9.46 trillion kilometers (5.88 trillion miles).\n",
      "\n",
      "Question: Why do stars twinkle when viewed from Earth?\n",
      "Response: Stars twinkle when viewed from Earth because their light passes through Earth's turbulent atmosphere, which causes the light to bend or refract in different directions. This atmospheric distortion makes the star's light appear to change in brightness and position rapidly, creating the twinkling effect. This phenomenon is called atmospheric scintillation.\n",
      "\n"
     ]
    }
   ],
   "source": [
    "questions = [\n",
    "    \"What causes the phases of the Moon?\",\n",
    "    \"What is a light-year and what does it measure?\",\n",
    "    \"Why do stars twinkle when viewed from Earth?\",\n",
    "]\n",
    "\n",
    "for i in questions:\n",
    "    print(f\"Question: {i}\")\n",
    "    print(f\"Response: {langsmith_rag(i)}\\n\")"
   ]
  }
 ],
 "metadata": {
  "kernelspec": {
   "display_name": ".venv (3.13.5)",
   "language": "python",
   "name": "python3"
  },
  "language_info": {
   "codemirror_mode": {
    "name": "ipython",
    "version": 3
   },
   "file_extension": ".py",
   "mimetype": "text/x-python",
   "name": "python",
   "nbconvert_exporter": "python",
   "pygments_lexer": "ipython3",
   "version": "3.13.5"
  }
 },
 "nbformat": 4,
 "nbformat_minor": 4
}
