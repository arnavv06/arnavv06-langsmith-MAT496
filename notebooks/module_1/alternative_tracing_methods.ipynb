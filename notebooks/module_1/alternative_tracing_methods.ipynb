{
 "cells": [
  {
   "cell_type": "code",
   "execution_count": 1,
   "metadata": {},
   "outputs": [
    {
     "data": {
      "text/plain": [
       "True"
      ]
     },
     "execution_count": 1,
     "metadata": {},
     "output_type": "execute_result"
    }
   ],
   "source": [
    "from dotenv import load_dotenv\n",
    "load_dotenv(dotenv_path=\"../../.env\", override=True)"
   ]
  },
  {
   "cell_type": "code",
   "execution_count": 2,
   "metadata": {},
   "outputs": [
    {
     "name": "stdout",
     "output_type": "stream",
     "text": [
      "This is a simple chatbot. Type 'byee' to quit.\n",
      "\n",
      "Question: in which galaxy do we live\n",
      "AI: We live in the Milky Way galaxy.\n",
      "\n",
      "Question: byee\n",
      "bei\n"
     ]
    }
   ],
   "source": [
    "from langsmith import traceable\n",
    "from openai import OpenAI\n",
    "from typing import List\n",
    "import nest_asyncio\n",
    "from langsmith import traceable, trace\n",
    "\n",
    "MODEL_PROVIDER = \"openai\"\n",
    "MODEL_NAME = \"gpt-4o-mini\"\n",
    "APP_VERSION = 1.0\n",
    "RAG_SYSTEM_PROMPT = \"\"\"You are an assistant for question-answering tasks.\n",
    "Answer all the questions asked by the user diligently.\n",
    "If you don't know the answer, just say that you don't know.\n",
    "\"\"\"\n",
    "\n",
    "openai_client = OpenAI()\n",
    "nest_asyncio.apply()\n",
    "\n",
    "def generate_response(question: str):\n",
    "    with trace(\n",
    "        name=\"Generate Response\", \n",
    "        run_type=\"chain\",\n",
    "        inputs={\"question\": question},\n",
    "        metadata={\"foo\": \"bar\"},\n",
    "    ) as ls_trace:\n",
    "        messages = [\n",
    "        {\n",
    "            \"role\": \"system\",\n",
    "            \"content\": RAG_SYSTEM_PROMPT\n",
    "        },\n",
    "        {\n",
    "            \"role\": \"user\",\n",
    "            \"content\": f\"Question: {question}\"\n",
    "        }\n",
    "        ]\n",
    "        response = call_openai(messages)\n",
    "        ls_trace.end(outputs={\"output\": response})\n",
    "    \n",
    "    return response\n",
    "\n",
    "@traceable()\n",
    "def call_openai(\n",
    "    messages: List[dict], model: str = MODEL_NAME, temperature: float = 0.0\n",
    ") -> str:\n",
    "    return openai_client.chat.completions.create(\n",
    "        model=model,\n",
    "        messages=messages,\n",
    "        temperature=temperature,\n",
    "    )\n",
    "\n",
    "@traceable\n",
    "def langsmith_rag(question: str):\n",
    "    response = generate_response(question)\n",
    "    return response.choices[0].message.content\n",
    "\n",
    "@traceable\n",
    "def chat_bot():\n",
    "    print(\"This is a simple chatbot. Type 'byee' to quit.\\n\")\n",
    "    \n",
    "    while True:\n",
    "        ques = input(\"Ask Question: \")\n",
    "        print(f\"Question: {ques}\")\n",
    "        \n",
    "        if ques.lower() == 'byee':\n",
    "            print(\"bei\")\n",
    "            break\n",
    "        \n",
    "        response = langsmith_rag(ques)\n",
    "        print(f\"AI: {response}\\n\")\n",
    "\n",
    "\n",
    "chat_bot()"
   ]
  },
  {
   "cell_type": "code",
   "execution_count": null,
   "metadata": {},
   "outputs": [
    {
     "name": "stdout",
     "output_type": "stream",
     "text": [
      "This is a simple chatbot. Type 'exit' to quit.\n",
      "\n",
      "Question: whos chacha chaudhar\n",
      "AI: Chacha Chaudhary is a popular Indian comic book character created by cartoonist Pran Kumar Sharma. He is known for his wit, intelligence, and resourcefulness. Chacha Chaudhary is depicted as an elderly man with a distinct white beard and a red turban, who, with the help of his giant friend Sabu, solves various problems and fights against injustice. The stories often incorporate humor and moral lessons, making Chacha Chaudhary a beloved figure in Indian pop culture.\n",
      "\n",
      "Question: byee\n",
      "AI: Goodbye! If you have more questions in the future, feel free to ask. Take care!\n",
      "\n",
      "Question: exit\n",
      "Exiting the chatbot. Goodbye!\n"
     ]
    }
   ],
   "source": [
    "from langsmith import traceable\n",
    "from openai import OpenAI\n",
    "from typing import List\n",
    "import nest_asyncio\n",
    "from langsmith import traceable, trace\n",
    "from langsmith.wrappers import wrap_openai\n",
    "\n",
    "MODEL_PROVIDER = \"openai\"\n",
    "MODEL_NAME = \"gpt-4o-mini\"\n",
    "APP_VERSION = 1.0\n",
    "RAG_SYSTEM_PROMPT = \"\"\"You are an assistant for question-answering tasks.\n",
    "Answer all the questions asked by the user diligently.\n",
    "If you don't know the answer, just say that you don't know.\n",
    "\"\"\"\n",
    "\n",
    "openai_client = wrap_openai(OpenAI())\n",
    "nest_asyncio.apply()\n",
    "\n",
    "def generate_response(question: str):\n",
    "    messages = [\n",
    "        {\n",
    "            \"role\": \"system\",\n",
    "            \"content\": RAG_SYSTEM_PROMPT\n",
    "        },\n",
    "        {\n",
    "            \"role\": \"user\",\n",
    "            \"content\": f\"Question: {question}\"\n",
    "        }\n",
    "    ]\n",
    "    \n",
    "    return openai_client.chat.completions.create(\n",
    "        model=MODEL_NAME,\n",
    "        messages=messages,\n",
    "    )\n",
    "    \n",
    "    return response\n",
    "\n",
    "@traceable()\n",
    "def call_openai(\n",
    "    messages: List[dict], model: str = MODEL_NAME, temperature: float = 0.0\n",
    ") -> str:\n",
    "    return openai_client.chat.completions.create(\n",
    "        model=model,\n",
    "        messages=messages,\n",
    "        temperature=temperature,\n",
    "    )\n",
    "\n",
    "@traceable\n",
    "def chat_bot():\n",
    "    print(\"This is a simple chatbot. Type 'byee' to quit.\\n\")\n",
    "    \n",
    "    while True:\n",
    "        ques = input(\"Enter the question: \")\n",
    "        print(f\"Question: {ques}\")\n",
    "        \n",
    "        if ques.lower() == 'byee':\n",
    "            print(\"au revoir\")\n",
    "            break\n",
    "        \n",
    "        response = langsmith_rag(ques)\n",
    "        print(f\"AI: {response}\\n\")\n",
    "\n",
    "\n",
    "chat_bot()"
   ]
  }
 ],
 "metadata": {
  "kernelspec": {
   "display_name": "venv",
   "language": "python",
   "name": "python3"
  },
  "language_info": {
   "codemirror_mode": {
    "name": "ipython",
    "version": 3
   },
   "file_extension": ".py",
   "mimetype": "text/x-python",
   "name": "python",
   "nbconvert_exporter": "python",
   "pygments_lexer": "ipython3",
   "version": "3.13.5"
  }
 },
 "nbformat": 4,
 "nbformat_minor": 4
}
