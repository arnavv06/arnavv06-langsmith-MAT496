{
 "cells": [
  {
   "cell_type": "code",
   "execution_count": 1,
   "metadata": {},
   "outputs": [
    {
     "data": {
      "text/plain": [
       "True"
      ]
     },
     "execution_count": 1,
     "metadata": {},
     "output_type": "execute_result"
    }
   ],
   "source": [
    "from dotenv import load_dotenv\n",
    "load_dotenv(dotenv_path=\"../../.env\", override=True)"
   ]
  },
  {
   "cell_type": "code",
   "execution_count": 2,
   "metadata": {},
   "outputs": [
    {
     "data": {
      "text/plain": [
       "{'choices': [{'message': {'role': 'assistant',\n",
       "    'content': 'This is the most accurate recipe for Beef Wellington: https://www.gordonramsay.com/gr/recipes/beef-wellington'}}]}"
      ]
     },
     "execution_count": 2,
     "metadata": {},
     "output_type": "execute_result"
    }
   ],
   "source": [
    "from langsmith import traceable\n",
    "\n",
    "inputs = [\n",
    "  {\"role\": \"system\", \"content\": \"You are a michelin star chef and expert in culinary arts. You know everything about famous dishes\"},\n",
    "  {\"role\": \"user\", \"content\": \"What are the steps to make Beef Wellington.\"},\n",
    "]\n",
    "\n",
    "output = {\n",
    "  \"choices\": [\n",
    "      {\n",
    "          \"message\": {\n",
    "              \"role\": \"assistant\",\n",
    "              \"content\": \"This is the most accurate recipe for Beef Wellington: https://www.gordonramsay.com/gr/recipes/beef-wellington\"\n",
    "          }\n",
    "      }\n",
    "  ]\n",
    "}\n",
    "\n",
    "@traceable(\n",
    "  run_type=\"llm\",\n",
    "  metadata={\n",
    "    \"ls_provider\": \"groq\", \n",
    "    \"ls_model_name\": \"openai/gpt-oss-20b\"\n",
    "  }\n",
    ")\n",
    "def chat_model(messages: list):\n",
    "  return output\n",
    "\n",
    "\n",
    "chat_model(inputs)"
   ]
  },
  {
   "cell_type": "code",
   "execution_count": 7,
   "metadata": {},
   "outputs": [
    {
     "data": {
      "text/plain": [
       "[{'page_content': 'Orion',\n",
       "  'type': 'Constellation',\n",
       "  'metadata': {'Observatory': 'Sydney Observatory'}},\n",
       " {'page_content': 'Ursa Major',\n",
       "  'type': 'Constellation',\n",
       "  'metadata': {'Observatory': 'Sydney Observatory'}},\n",
       " {'page_content': 'Scorpius',\n",
       "  'type': 'Constellation',\n",
       "  'metadata': {'Observatory': 'Sydney Observatory'}},\n",
       " {'page_content': 'Cassiopeia',\n",
       "  'type': 'Constellation',\n",
       "  'metadata': {'Observatory': 'Sydney Observatory'}},\n",
       " {'page_content': 'Cygnus',\n",
       "  'type': 'Constellation',\n",
       "  'metadata': {'Observatory': 'Sydney Observatory'}},\n",
       " {'page_content': 'Leo',\n",
       "  'type': 'Constellation',\n",
       "  'metadata': {'Observatory': 'Sydney Observatory'}},\n",
       " {'page_content': 'Canis Major',\n",
       "  'type': 'Constellation',\n",
       "  'metadata': {'Observatory': 'Sydney Observatory'}}]"
      ]
     },
     "execution_count": 7,
     "metadata": {},
     "output_type": "execute_result"
    }
   ],
   "source": [
    "from langsmith import traceable\n",
    "\n",
    "def _convert_docs(results):\n",
    "  \"\"\"Converts a list of strings into a document format.\"\"\"\n",
    "  return [\n",
    "      {\n",
    "          \"page_content\": r,\n",
    "          \"type\": \"Constellation\",\n",
    "          \"metadata\": {\"Observatory\": \"Sydney Observatory\"}\n",
    "      }\n",
    "      for r in results\n",
    "  ]\n",
    "\n",
    "@traceable(run_type=\"retriever\")\n",
    "def retrieve_docs(query: str):\n",
    "  \"\"\"A mock retriever that returns a static list of constellations.\"\"\"\n",
    "  contents = [\n",
    "      \"Orion\",\n",
    "      \"Ursa Major\",\n",
    "      \"Scorpius\",\n",
    "      \"Cassiopeia\",\n",
    "      \"Cygnus\",\n",
    "      \"Leo\",\n",
    "      \"Canis Major\"\n",
    "  ]\n",
    "  return _convert_docs(contents)\n",
    "\n",
    "# Example call to the function\n",
    "retrieve_docs(\"Searching for constellations visible in the night sky\")"
   ]
  }
 ],
 "metadata": {
  "kernelspec": {
   "display_name": "venv",
   "language": "python",
   "name": "python3"
  },
  "language_info": {
   "codemirror_mode": {
    "name": "ipython",
    "version": 3
   },
   "file_extension": ".py",
   "mimetype": "text/x-python",
   "name": "python",
   "nbconvert_exporter": "python",
   "pygments_lexer": "ipython3",
   "version": "3.13.5"
  }
 },
 "nbformat": 4,
 "nbformat_minor": 4
}
